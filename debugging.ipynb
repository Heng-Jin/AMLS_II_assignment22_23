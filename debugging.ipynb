{
 "cells": [
  {
   "cell_type": "code",
   "execution_count": 1,
   "id": "9fb39ff9",
   "metadata": {},
   "outputs": [],
   "source": [
    "from dataset import amls_dataset"
   ]
  },
  {
   "cell_type": "code",
   "execution_count": 2,
   "id": "4b30a5db",
   "metadata": {},
   "outputs": [],
   "source": [
    "import csv\n",
    "import numpy as np\n",
    "import logging\n",
    "import pathlib\n",
    "import os\n",
    "import time\n",
    "import torch\n",
    "from torch import nn, optim\n",
    "from torch.utils.data import Dataset,DataLoader\n",
    "from torchvision import models\n",
    "from PIL import Image\n",
    "from matplotlib import pyplot as plt"
   ]
  },
  {
   "cell_type": "code",
   "execution_count": 3,
   "id": "ffd1ed4a",
   "metadata": {},
   "outputs": [],
   "source": [
    "train_datapath = pathlib.Path(r'D:\\UCL_codes\\0135\\data\\DIV2K_valid_LR_bicubic')\n",
    "train_dataset = amls_dataset(train_datapath, \"training\")"
   ]
  },
  {
   "cell_type": "code",
   "execution_count": 15,
   "id": "3c3cdb04",
   "metadata": {},
   "outputs": [],
   "source": [
    "for i in range(800):\n",
    "    img_lr, img_hr = train_dataset.__getitem__(i)\n",
    "    if img_hr.shape[1]!=img_hr.shape[2] or img_hr.shape[1]!=510:\n",
    "        print(i, img_lr.shape,img_hr.shape)"
   ]
  },
  {
   "cell_type": "code",
   "execution_count": 5,
   "id": "411dc4e0",
   "metadata": {},
   "outputs": [
    {
     "data": {
      "text/plain": [
       "torch.Size([1, 255, 255])"
      ]
     },
     "execution_count": 5,
     "metadata": {},
     "output_type": "execute_result"
    }
   ],
   "source": [
    "img_lr.shape"
   ]
  },
  {
   "cell_type": "code",
   "execution_count": 6,
   "id": "562ff544",
   "metadata": {},
   "outputs": [
    {
     "data": {
      "text/plain": [
       "torch.Size([1, 510, 510])"
      ]
     },
     "execution_count": 6,
     "metadata": {},
     "output_type": "execute_result"
    }
   ],
   "source": [
    "img_hr.shape"
   ]
  },
  {
   "cell_type": "code",
   "execution_count": 5,
   "id": "c224ae12",
   "metadata": {},
   "outputs": [
    {
     "data": {
      "text/plain": [
       "[[801,\n",
       "  WindowsPath('D:/UCL_codes/0135/data/DIV2K_valid_LR_bicubic/X8/0801x8.png'),\n",
       "  WindowsPath('D:/UCL_codes/0135/data/DIV2K_valid_LR_bicubic/X4/0801x4.png'),\n",
       "  [255, 169],\n",
       "  [510, 339]],\n",
       " [802,\n",
       "  WindowsPath('D:/UCL_codes/0135/data/DIV2K_valid_LR_bicubic/X8/0802x8.png'),\n",
       "  WindowsPath('D:/UCL_codes/0135/data/DIV2K_valid_LR_bicubic/X4/0802x4.png'),\n",
       "  [255, 169],\n",
       "  [510, 339]],\n",
       " [803,\n",
       "  WindowsPath('D:/UCL_codes/0135/data/DIV2K_valid_LR_bicubic/X8/0803x8.png'),\n",
       "  WindowsPath('D:/UCL_codes/0135/data/DIV2K_valid_LR_bicubic/X4/0803x4.png'),\n",
       "  [255, 192],\n",
       "  [510, 384]],\n",
       " [804,\n",
       "  WindowsPath('D:/UCL_codes/0135/data/DIV2K_valid_LR_bicubic/X8/0804x8.png'),\n",
       "  WindowsPath('D:/UCL_codes/0135/data/DIV2K_valid_LR_bicubic/X4/0804x4.png'),\n",
       "  [255, 150],\n",
       "  [510, 300]],\n",
       " [805,\n",
       "  WindowsPath('D:/UCL_codes/0135/data/DIV2K_valid_LR_bicubic/X8/0805x8.png'),\n",
       "  WindowsPath('D:/UCL_codes/0135/data/DIV2K_valid_LR_bicubic/X4/0805x4.png'),\n",
       "  [255, 192],\n",
       "  [510, 384]],\n",
       " [806,\n",
       "  WindowsPath('D:/UCL_codes/0135/data/DIV2K_valid_LR_bicubic/X8/0806x8.png'),\n",
       "  WindowsPath('D:/UCL_codes/0135/data/DIV2K_valid_LR_bicubic/X4/0806x4.png'),\n",
       "  [255, 169],\n",
       "  [510, 339]],\n",
       " [807,\n",
       "  WindowsPath('D:/UCL_codes/0135/data/DIV2K_valid_LR_bicubic/X8/0807x8.png'),\n",
       "  WindowsPath('D:/UCL_codes/0135/data/DIV2K_valid_LR_bicubic/X4/0807x4.png'),\n",
       "  [255, 141],\n",
       "  [510, 282]],\n",
       " [808,\n",
       "  WindowsPath('D:/UCL_codes/0135/data/DIV2K_valid_LR_bicubic/X8/0808x8.png'),\n",
       "  WindowsPath('D:/UCL_codes/0135/data/DIV2K_valid_LR_bicubic/X4/0808x4.png'),\n",
       "  [255, 169],\n",
       "  [510, 339]],\n",
       " [809,\n",
       "  WindowsPath('D:/UCL_codes/0135/data/DIV2K_valid_LR_bicubic/X8/0809x8.png'),\n",
       "  WindowsPath('D:/UCL_codes/0135/data/DIV2K_valid_LR_bicubic/X4/0809x4.png'),\n",
       "  [255, 169],\n",
       "  [510, 339]],\n",
       " [810,\n",
       "  WindowsPath('D:/UCL_codes/0135/data/DIV2K_valid_LR_bicubic/X8/0810x8.png'),\n",
       "  WindowsPath('D:/UCL_codes/0135/data/DIV2K_valid_LR_bicubic/X4/0810x4.png'),\n",
       "  [255, 192],\n",
       "  [510, 384]]]"
      ]
     },
     "execution_count": 5,
     "metadata": {},
     "output_type": "execute_result"
    }
   ],
   "source": [
    "train_dataset.dataset_list[:10]"
   ]
  },
  {
   "cell_type": "code",
   "execution_count": 4,
   "id": "a7023e0c",
   "metadata": {},
   "outputs": [
    {
     "data": {
      "text/plain": [
       "tensor([[ 1.0486,  0.7654,  0.9188],\n",
       "        [-0.2678, -1.2490,  1.0301],\n",
       "        [ 0.8327,  1.8991, -0.0349]])"
      ]
     },
     "execution_count": 4,
     "metadata": {},
     "output_type": "execute_result"
    }
   ],
   "source": [
    "x = torch.randn(3, 3)\n",
    "x"
   ]
  },
  {
   "cell_type": "code",
   "execution_count": 5,
   "id": "829b23ed",
   "metadata": {},
   "outputs": [
    {
     "data": {
      "text/plain": [
       "(tensor([[1.0486, 0.7654, 0.9188]]),\n",
       " tensor([[-0.2678, -1.2490,  1.0301]]),\n",
       " tensor([[ 0.8327,  1.8991, -0.0349]]))"
      ]
     },
     "execution_count": 5,
     "metadata": {},
     "output_type": "execute_result"
    }
   ],
   "source": [
    "torch.chunk(x, 3, dim=0)"
   ]
  },
  {
   "cell_type": "code",
   "execution_count": 7,
   "id": "6ae198b0",
   "metadata": {},
   "outputs": [
    {
     "name": "stdout",
     "output_type": "stream",
     "text": [
      "tensor([1.0486, 0.7654, 0.9188])\n",
      "tensor([-0.2678, -1.2490,  1.0301])\n",
      "tensor([ 0.8327,  1.8991, -0.0349])\n"
     ]
    }
   ],
   "source": [
    "for i in x:\n",
    "    print(i)"
   ]
  },
  {
   "cell_type": "code",
   "execution_count": null,
   "id": "562fa3a6",
   "metadata": {},
   "outputs": [],
   "source": []
  }
 ],
 "metadata": {
  "kernelspec": {
   "display_name": "Python 3 (ipykernel)",
   "language": "python",
   "name": "python3"
  },
  "language_info": {
   "codemirror_mode": {
    "name": "ipython",
    "version": 3
   },
   "file_extension": ".py",
   "mimetype": "text/x-python",
   "name": "python",
   "nbconvert_exporter": "python",
   "pygments_lexer": "ipython3",
   "version": "3.7.13"
  }
 },
 "nbformat": 4,
 "nbformat_minor": 5
}
